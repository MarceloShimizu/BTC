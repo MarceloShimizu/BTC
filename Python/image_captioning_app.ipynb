{
 "cells": [
  {
   "cell_type": "markdown",
   "id": "4d16397d-5df3-4631-b229-de4a95e5c8e3",
   "metadata": {},
   "source": [
    "Implement image captioning app with Gradio"
   ]
  },
  {
   "cell_type": "markdown",
   "id": "66a55e4b-86b4-472c-bebb-658a62421dfc",
   "metadata": {},
   "source": [
    "Step 1: Set up the environment"
   ]
  },
  {
   "cell_type": "code",
   "execution_count": null,
   "id": "a55b9f46-5b37-41ae-b50a-a1b5c6a46c16",
   "metadata": {},
   "outputs": [],
   "source": [
    "import gradio as gr\n",
    "import numpy as np\n",
    "from PIL import Image\n",
    "from transformers import AutoProcessor, BlipForConditionalGeneration"
   ]
  },
  {
   "cell_type": "markdown",
   "id": "5dd17d0d-4ec0-4366-ae82-cf69513d11e1",
   "metadata": {},
   "source": [
    "Step 2: Load the pretrained model"
   ]
  },
  {
   "cell_type": "code",
   "execution_count": null,
   "id": "66135ec7-6bc5-4c1f-9ef8-2976bd7ac57d",
   "metadata": {},
   "outputs": [],
   "source": [
    "processor = AutoProcessor.from_pretrained(\"Salesforce/blip-image-captioning-base\")\n",
    "model = BlipForConditionalGeneration.from_pretrained(\"Salesforce/blip-image-captioning-base\")"
   ]
  },
  {
   "cell_type": "markdown",
   "id": "5edf1aea-552a-48d5-851e-cd2afc6f5055",
   "metadata": {},
   "source": [
    "Step 3: Define the image captioning function"
   ]
  },
  {
   "cell_type": "code",
   "execution_count": null,
   "id": "240992c8-2640-4980-bf3b-8a32d6cc628b",
   "metadata": {},
   "outputs": [],
   "source": [
    "def caption_image(input_image: np.ndarray):\n",
    "    # Convert numpy array to PIL Image and convert to RGB\n",
    "    raw_image = Image.fromarray(input_image).convert('RGB')\n",
    "    \n",
    "    # Process the image\n",
    "    text = \"The image of\"\n",
    "    inputs = processor(images=raw_image, text=text, return_tensors=\"pt\")\n",
    "\n",
    "    # Generate a caption for the image\n",
    "    outputs = model.generate(**inputs, max_length=100)\n",
    "\n",
    "    # Decode the generated tokens to text and store it into `caption`\n",
    "    caption = processor.decode(outputs[0], skip_special_tokens=True)\n",
    "   \n",
    "    return caption"
   ]
  },
  {
   "cell_type": "markdown",
   "id": "cb1e5b02-c4ef-4e42-93a7-f2eee71fea26",
   "metadata": {},
   "source": [
    "Step 4: Create the Gradio interface"
   ]
  },
  {
   "cell_type": "code",
   "execution_count": null,
   "id": "71af7ef5-971f-46ac-93d2-252c44bb4319",
   "metadata": {},
   "outputs": [],
   "source": [
    "iface = gr.Interface(\n",
    "    fn=caption_image, \n",
    "    inputs=gr.Image(type=\"numpy\"), \n",
    "    outputs=\"text\",\n",
    "    title=\"Image Captioning\",\n",
    "    description=\"This is a simple web app for generating captions for images using a trained model.\"\n",
    ")"
   ]
  },
  {
   "cell_type": "markdown",
   "id": "402af6b0-3fb3-496a-b008-dd2cc760df7d",
   "metadata": {},
   "source": [
    "Step 5: Launch the Web App"
   ]
  },
  {
   "cell_type": "code",
   "execution_count": null,
   "id": "7c733fff-a21c-4c55-bb77-b3ed8df34933",
   "metadata": {},
   "outputs": [],
   "source": [
    "iface.launch()"
   ]
  },
  {
   "cell_type": "markdown",
   "id": "cf34f6c4-0c22-4480-bbc5-0b3dbac83e56",
   "metadata": {},
   "source": [
    "Step 6: Run the application"
   ]
  },
  {
   "cell_type": "code",
   "execution_count": null,
   "id": "f1951556-95a1-4398-8c86-0e67f85b6efd",
   "metadata": {},
   "outputs": [],
   "source": []
  }
 ],
 "metadata": {
  "kernelspec": {
   "display_name": "Python (btc1_proj1_env)",
   "language": "python",
   "name": "btc1_proj1_env"
  },
  "language_info": {
   "codemirror_mode": {
    "name": "ipython",
    "version": 3
   },
   "file_extension": ".py",
   "mimetype": "text/x-python",
   "name": "python",
   "nbconvert_exporter": "python",
   "pygments_lexer": "ipython3",
   "version": "3.12.3"
  }
 },
 "nbformat": 4,
 "nbformat_minor": 5
}
