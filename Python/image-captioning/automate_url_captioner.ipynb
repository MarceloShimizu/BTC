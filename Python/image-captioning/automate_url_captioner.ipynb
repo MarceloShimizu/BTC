{
 "cells": [
  {
   "cell_type": "markdown",
   "id": "aaaba2eb-7ae9-40f8-95fb-9cd097fc12c6",
   "metadata": {},
   "source": [
    "Automated image captioning program that works directly from a URL"
   ]
  },
  {
   "cell_type": "code",
   "execution_count": 5,
   "id": "5842fca2-5bc3-40c3-9f57-f4c44c2d9d4a",
   "metadata": {},
   "outputs": [],
   "source": [
    "import requests\n",
    "from PIL import Image\n",
    "from io import BytesIO\n",
    "from bs4 import BeautifulSoup\n",
    "from transformers import AutoProcessor, BlipForConditionalGeneration"
   ]
  },
  {
   "cell_type": "code",
   "execution_count": 6,
   "id": "9b2ea7bb-0190-4e86-a570-78af1902dd55",
   "metadata": {},
   "outputs": [
    {
     "name": "stderr",
     "output_type": "stream",
     "text": [
      "/home/mshimizu/env/btc1_proj1_env/lib/python3.12/site-packages/huggingface_hub/file_download.py:795: FutureWarning: `resume_download` is deprecated and will be removed in version 1.0.0. Downloads always resume when possible. If you want to force a new download, use `force_download=True`.\n",
      "  warnings.warn(\n"
     ]
    }
   ],
   "source": [
    "# Load the pretrained processor and model\n",
    "processor = AutoProcessor.from_pretrained(\"Salesforce/blip-image-captioning-base\")\n",
    "model = BlipForConditionalGeneration.from_pretrained(\"Salesforce/blip-image-captioning-base\")"
   ]
  },
  {
   "cell_type": "code",
   "execution_count": 7,
   "id": "d5c40dbd-db30-4f33-b79e-42181d683a6c",
   "metadata": {},
   "outputs": [],
   "source": [
    "# URL of the page to scrape\n",
    "url = \"https://en.wikipedia.org/wiki/IBM\""
   ]
  },
  {
   "cell_type": "code",
   "execution_count": 8,
   "id": "8891f0ed-95df-4d9a-8ebd-b20157924110",
   "metadata": {},
   "outputs": [],
   "source": [
    "# Download the page\n",
    "response = requests.get(url)\n",
    "# Parse the page with BeautifulSoup\n",
    "soup = BeautifulSoup(response.text, 'html.parser')"
   ]
  },
  {
   "cell_type": "code",
   "execution_count": 9,
   "id": "7a020851-02a7-4d6d-b41b-30a712298031",
   "metadata": {},
   "outputs": [],
   "source": [
    "# Find all img elements\n",
    "img_elements = soup.find_all('img')"
   ]
  },
  {
   "cell_type": "code",
   "execution_count": 10,
   "id": "0d0e17b2-b2fe-4c34-913e-ce2a883622d5",
   "metadata": {},
   "outputs": [],
   "source": [
    "# Open a file to write the captions\n",
    "with open(\"captions.txt\", \"w\") as caption_file:\n",
    "    # Iterate over each img element\n",
    "    for img_element in img_elements:\n",
    "        img_url = img_element.get('src')\n",
    "        # Skip if the image is an SVG or too small (likely an icon)\n",
    "        if 'svg' in img_url or '1x1' in img_url:\n",
    "            continue\n",
    "        # Correct the URL if it's malformed\n",
    "        if img_url.startswith('//'):\n",
    "            img_url = 'https:' + img_url\n",
    "        elif not img_url.startswith('http://') and not img_url.startswith('https://'):\n",
    "            continue  # Skip URLs that don't start with http:// or https://\n",
    "        try:\n",
    "            # Download the image\n",
    "            response = requests.get(img_url)\n",
    "            # Convert the image data to a PIL Image\n",
    "            raw_image = Image.open(BytesIO(response.content))\n",
    "            if raw_image.size[0] * raw_image.size[1] < 400:  # Skip very small images\n",
    "                continue\n",
    "            raw_image = raw_image.convert('RGB')\n",
    "            # Process the image\n",
    "            inputs = processor(raw_image, return_tensors=\"pt\")\n",
    "            # Generate a caption for the image\n",
    "            out = model.generate(**inputs, max_new_tokens=50)\n",
    "            # Decode the generated tokens to text\n",
    "            caption = processor.decode(out[0], skip_special_tokens=True)\n",
    "            # Write the caption to the file, prepended by the image URL\n",
    "            caption_file.write(f\"{img_url}: {caption}\\n\")\n",
    "        except Exception as e:\n",
    "            print(f\"Error processing image {img_url}: {e}\")\n",
    "            continue"
   ]
  }
 ],
 "metadata": {
  "kernelspec": {
   "display_name": "Python (btc1_proj1_env)",
   "language": "python",
   "name": "btc1_proj1_env"
  },
  "language_info": {
   "codemirror_mode": {
    "name": "ipython",
    "version": 3
   },
   "file_extension": ".py",
   "mimetype": "text/x-python",
   "name": "python",
   "nbconvert_exporter": "python",
   "pygments_lexer": "ipython3",
   "version": "3.12.3"
  }
 },
 "nbformat": 4,
 "nbformat_minor": 5
}
