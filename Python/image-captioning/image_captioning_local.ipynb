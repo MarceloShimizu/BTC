{
 "cells": [
  {
   "cell_type": "markdown",
   "id": "401c3041-488c-4143-aa6d-6344de4ba54e",
   "metadata": {},
   "source": [
    "Image captioning for local files (Run locally if using Blip2)"
   ]
  },
  {
   "cell_type": "code",
   "execution_count": 1,
   "id": "c6ae2558-37bf-44ce-a3d5-9a98838ac1c7",
   "metadata": {},
   "outputs": [
    {
     "name": "stderr",
     "output_type": "stream",
     "text": [
      "/home/mshimizu/env/btc1_proj1_env/lib/python3.12/site-packages/tqdm/auto.py:21: TqdmWarning: IProgress not found. Please update jupyter and ipywidgets. See https://ipywidgets.readthedocs.io/en/stable/user_install.html\n",
      "  from .autonotebook import tqdm as notebook_tqdm\n"
     ]
    }
   ],
   "source": [
    "import os\n",
    "import glob\n",
    "import requests\n",
    "from PIL import Image\n",
    "from transformers import Blip2Processor, Blip2ForConditionalGeneration #Blip2 models"
   ]
  },
  {
   "cell_type": "code",
   "execution_count": 2,
   "id": "837a03d0-298a-44d1-a7ac-8a340d647c47",
   "metadata": {},
   "outputs": [
    {
     "name": "stderr",
     "output_type": "stream",
     "text": [
      "Downloading shards: 100%|███████████████████████████████████████████████████████████████████| 2/2 [08:13<00:00, 246.84s/it]\n",
      "Loading checkpoint shards: 100%|█████████████████████████████████████████████████████████████| 2/2 [00:01<00:00,  1.88it/s]\n"
     ]
    }
   ],
   "source": [
    "# Load the pretrained processor and model\n",
    "processor = Blip2Processor.from_pretrained(\"Salesforce/blip2-opt-2.7b\")\n",
    "model = Blip2ForConditionalGeneration.from_pretrained(\"Salesforce/blip2-opt-2.7b\")"
   ]
  },
  {
   "cell_type": "code",
   "execution_count": 5,
   "id": "c74e787f-7854-425b-9893-d830837c9ea1",
   "metadata": {},
   "outputs": [],
   "source": [
    "# Specify the directory where your images are\n",
    "image_dir = \"content/\"\n",
    "image_exts = [\"jpg\", \"jpeg\", \"png\"]  # specify the image file extensions to search for"
   ]
  },
  {
   "cell_type": "code",
   "execution_count": null,
   "id": "1aabb4b6-446d-462d-9cf8-61b7712bd604",
   "metadata": {},
   "outputs": [],
   "source": [
    "# Open a file to write the captions\n",
    "with open(\"local_captions.txt\", \"w\") as caption_file:\n",
    "    # Iterate over each image file in the directory\n",
    "    for image_ext in image_exts:\n",
    "        for img_path in glob.glob(os.path.join(image_dir, f\"*.{image_ext}\")):\n",
    "            # Load your image\n",
    "            raw_image = Image.open(img_path).convert('RGB')\n",
    "\n",
    "            # You do not need a question for image captioning\n",
    "            inputs = processor(raw_image, return_tensors=\"pt\")\n",
    "\n",
    "            # Generate a caption for the image\n",
    "            out = model.generate(**inputs, max_new_tokens=50)\n",
    "\n",
    "            # Decode the generated tokens to text\n",
    "            caption = processor.decode(out[0], skip_special_tokens=True)\n",
    "\n",
    "            # Write the caption to the file, prepended by the image file name\n",
    "            caption_file.write(f\"{os.path.basename(img_path)}: {caption}\\n\")"
   ]
  },
  {
   "cell_type": "code",
   "execution_count": null,
   "id": "837eee06-e5d9-402d-a9c2-f194f444e369",
   "metadata": {},
   "outputs": [],
   "source": []
  }
 ],
 "metadata": {
  "kernelspec": {
   "display_name": "Python (btc1_proj1_env)",
   "language": "python",
   "name": "btc1_proj1_env"
  },
  "language_info": {
   "codemirror_mode": {
    "name": "ipython",
    "version": 3
   },
   "file_extension": ".py",
   "mimetype": "text/x-python",
   "name": "python",
   "nbconvert_exporter": "python",
   "pygments_lexer": "ipython3",
   "version": "3.12.3"
  }
 },
 "nbformat": 4,
 "nbformat_minor": 5
}
