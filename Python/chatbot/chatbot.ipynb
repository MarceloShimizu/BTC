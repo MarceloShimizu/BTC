{
 "cells": [
  {
   "cell_type": "markdown",
   "id": "4a4b89fb-7361-478a-baf8-5aa1faf9089e",
   "metadata": {},
   "source": [
    "Import required tools from the transformers library"
   ]
  },
  {
   "cell_type": "code",
   "execution_count": null,
   "id": "f403d926-5961-483f-a49d-563fb19b387c",
   "metadata": {},
   "outputs": [],
   "source": [
    "from transformers import AutoTokenizer, AutoModelForSeq2SeqLM"
   ]
  },
  {
   "cell_type": "code",
   "execution_count": null,
   "id": "febfdfb4-1ad9-4e5b-b73d-97822bd4a5d4",
   "metadata": {},
   "outputs": [],
   "source": [
    "model_name = \"facebook/blenderbot-400M-distill\""
   ]
  },
  {
   "cell_type": "code",
   "execution_count": null,
   "id": "4718320d-7fee-46ac-b317-ea1d7b928b2f",
   "metadata": {},
   "outputs": [],
   "source": [
    "# Load model (download on first run and reference local installation for consequent runs)\n",
    "model = AutoModelForSeq2SeqLM.from_pretrained(model_name)\n",
    "tokenizer = AutoTokenizer.from_pretrained(model_name)"
   ]
  },
  {
   "cell_type": "code",
   "execution_count": null,
   "id": "8e979a66-36e1-48bb-84c1-5fceb77d7547",
   "metadata": {},
   "outputs": [],
   "source": [
    "#Keeping track of conversation history\n",
    "conversation_history = []"
   ]
  },
  {
   "cell_type": "code",
   "execution_count": null,
   "id": "594df2e8-2420-412c-81f0-b6ce75e64c02",
   "metadata": {},
   "outputs": [],
   "source": [
    "#Encoding the conversation history\n",
    "#history_string = \"\\n\".join(conversation_history)"
   ]
  },
  {
   "cell_type": "code",
   "execution_count": null,
   "id": "0c98a1d5-d856-4771-bf72-ef00adbecb5a",
   "metadata": {},
   "outputs": [],
   "source": [
    "#Fetch prompt from user\n",
    "#input_text =\"hello, how are you doing?\""
   ]
  },
  {
   "cell_type": "code",
   "execution_count": null,
   "id": "939cfa3a-7928-4a7e-b2bc-4cf8224bbce1",
   "metadata": {},
   "outputs": [],
   "source": [
    "#Tokenization of user prompt and chat history\n",
    "#inputs = tokenizer.encode_plus(history_string, input_text, return_tensors=\"pt\")\n",
    "#print(inputs)"
   ]
  },
  {
   "cell_type": "code",
   "execution_count": null,
   "id": "541427a0-c215-4564-aa1d-e1415a3ecbad",
   "metadata": {},
   "outputs": [],
   "source": [
    "#tokenizer.pretrained_vocab_files_map"
   ]
  },
  {
   "cell_type": "code",
   "execution_count": null,
   "id": "e1619bee-e0ad-41a8-8503-ab167e9da42a",
   "metadata": {},
   "outputs": [],
   "source": [
    "#Generate output from the model\n",
    "#outputs = model.generate(**inputs)\n",
    "#print(outputs)"
   ]
  },
  {
   "cell_type": "code",
   "execution_count": null,
   "id": "f5879e64-6887-4a43-8d44-76b0dc71ec69",
   "metadata": {},
   "outputs": [],
   "source": [
    "#Decode output\n",
    "#response = tokenizer.decode(outputs[0], skip_special_tokens=True).strip()\n",
    "#print(response)"
   ]
  },
  {
   "cell_type": "code",
   "execution_count": null,
   "id": "4bbade77-4017-4497-bd5e-2021bab38053",
   "metadata": {},
   "outputs": [],
   "source": [
    "#Update conversation history\n",
    "# conversation_history.append(input_text)\n",
    "# conversation_history.append(response)\n",
    "# print(conversation_history)"
   ]
  },
  {
   "cell_type": "code",
   "execution_count": null,
   "id": "71055087-ef5f-4b53-b040-868f933dbffb",
   "metadata": {},
   "outputs": [],
   "source": [
    "#Repeat\n",
    "while True:\n",
    "    # Create conversation history string\n",
    "    history_string = \"\\n\".join(conversation_history)\n",
    "\n",
    "    # Get the input data from the user\n",
    "    input_text = input(\"> \")\n",
    "\n",
    "    # Tokenize the input text and history\n",
    "    inputs = tokenizer.encode_plus(history_string, input_text, return_tensors=\"pt\")\n",
    "\n",
    "    # Generate the response from the model\n",
    "    outputs = model.generate(**inputs)\n",
    "\n",
    "    # Decode the response\n",
    "    response = tokenizer.decode(outputs[0], skip_special_tokens=True).strip()\n",
    "    \n",
    "    print(response)\n",
    "\n",
    "    # Add interaction to conversation history\n",
    "    conversation_history.append(input_text)\n",
    "    conversation_history.append(response)"
   ]
  },
  {
   "cell_type": "code",
   "execution_count": null,
   "id": "5f175a74-34e9-43d1-8225-2780a2d07d22",
   "metadata": {},
   "outputs": [],
   "source": []
  },
  {
   "cell_type": "code",
   "execution_count": null,
   "id": "a1257203-2ded-4b8e-9ef2-bf6bae2c96b3",
   "metadata": {},
   "outputs": [],
   "source": []
  }
 ],
 "metadata": {
  "kernelspec": {
   "display_name": "Python (chatbot_env)",
   "language": "python",
   "name": "chatbot_env"
  },
  "language_info": {
   "codemirror_mode": {
    "name": "ipython",
    "version": 3
   },
   "file_extension": ".py",
   "mimetype": "text/x-python",
   "name": "python",
   "nbconvert_exporter": "python",
   "pygments_lexer": "ipython3",
   "version": "3.12.3"
  }
 },
 "nbformat": 4,
 "nbformat_minor": 5
}
